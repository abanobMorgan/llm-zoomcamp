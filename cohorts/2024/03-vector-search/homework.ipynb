{
 "cells": [
  {
   "cell_type": "code",
   "execution_count": 1,
   "metadata": {},
   "outputs": [
    {
     "name": "stderr",
     "output_type": "stream",
     "text": [
      "/media/rdi/043764CF611486F91/NLP/llm-zoomcamp/llm/lib/python3.10/site-packages/tqdm/auto.py:21: TqdmWarning: IProgress not found. Please update jupyter and ipywidgets. See https://ipywidgets.readthedocs.io/en/stable/user_install.html\n",
      "  from .autonotebook import tqdm as notebook_tqdm\n"
     ]
    }
   ],
   "source": [
    "from sentence_transformers import SentenceTransformer\n",
    "import pandas as pd  \n",
    "import requests \n",
    "import  numpy as np\n",
    "from elasticsearch import Elasticsearch\n",
    "from elasticsearch.helpers import bulk\n",
    "from tqdm.auto import tqdm\n"
   ]
  },
  {
   "cell_type": "markdown",
   "metadata": {},
   "source": [
    "### Q1. Getting the embeddings model\n",
    "\n",
    "0.07\n",
    "\n"
   ]
  },
  {
   "cell_type": "code",
   "execution_count": 2,
   "metadata": {},
   "outputs": [],
   "source": [
    "\n",
    "model_name=\"multi-qa-distilbert-cos-v1\"\n",
    "embedding_model = SentenceTransformer(model_name)\n",
    "user_question = \"I just discovered the course. Can I still join it?\"\n",
    "user_question_embedding = embedding_model.encode(user_question)\n"
   ]
  },
  {
   "cell_type": "code",
   "execution_count": 35,
   "metadata": {},
   "outputs": [
    {
     "name": "stdout",
     "output_type": "stream",
     "text": [
      "0.07822265\n"
     ]
    }
   ],
   "source": [
    "print(user_question_embedding[0])"
   ]
  },
  {
   "cell_type": "markdown",
   "metadata": {},
   "source": [
    "#### Prepare the documents\n"
   ]
  },
  {
   "cell_type": "code",
   "execution_count": 5,
   "metadata": {},
   "outputs": [
    {
     "name": "stdout",
     "output_type": "stream",
     "text": [
      "dict_keys(['text', 'section', 'question', 'course', 'id'])\n"
     ]
    },
    {
     "data": {
      "text/plain": [
       "375"
      ]
     },
     "execution_count": 5,
     "metadata": {},
     "output_type": "execute_result"
    }
   ],
   "source": [
    "\n",
    "base_url = 'https://github.com/DataTalksClub/llm-zoomcamp/blob/main'\n",
    "relative_url = '03-vector-search/eval/documents-with-ids.json'\n",
    "docs_url = f'{base_url}/{relative_url}?raw=1'\n",
    "docs_response = requests.get(docs_url)\n",
    "documents = docs_response.json()\n",
    "print(documents[0].keys())\n",
    "# Filter documents for \"machine-learning-zoomcamp\"\n",
    "filtered_documents = [\n",
    "    doc for doc in documents if doc['course'].startswith(\"machine-learning-zoomcamp\")\n",
    "]\n",
    "len(filtered_documents)"
   ]
  },
  {
   "cell_type": "markdown",
   "metadata": {},
   "source": [
    "### Q2. Creating the embeddings\n",
    "(375, 768)\n"
   ]
  },
  {
   "cell_type": "code",
   "execution_count": 6,
   "metadata": {},
   "outputs": [
    {
     "name": "stderr",
     "output_type": "stream",
     "text": [
      "  0%|          | 0/375 [00:00<?, ?it/s]"
     ]
    },
    {
     "name": "stderr",
     "output_type": "stream",
     "text": [
      "100%|██████████| 375/375 [02:16<00:00,  2.74it/s]"
     ]
    },
    {
     "name": "stdout",
     "output_type": "stream",
     "text": [
      "(375, 768)\n"
     ]
    },
    {
     "name": "stderr",
     "output_type": "stream",
     "text": [
      "\n"
     ]
    }
   ],
   "source": [
    "embeddings = [\n",
    "    embedding_model.encode(\n",
    "        '{question} {text}'.format(**doc)\n",
    "    ) for doc in tqdm(filtered_documents)\n",
    "]\n",
    "# Convert to numpy array\n",
    "X = np.array(embeddings)\n",
    "# Print the shape of X\n",
    "print(X.shape)"
   ]
  },
  {
   "cell_type": "markdown",
   "metadata": {},
   "source": [
    "### Q3. Search\n",
    "0.6506573\n"
   ]
  },
  {
   "cell_type": "code",
   "execution_count": 7,
   "metadata": {},
   "outputs": [
    {
     "data": {
      "text/plain": [
       "0.6506573"
      ]
     },
     "execution_count": 7,
     "metadata": {},
     "output_type": "execute_result"
    }
   ],
   "source": [
    "scores = X.dot(user_question_embedding)\n",
    "max(scores)"
   ]
  },
  {
   "cell_type": "markdown",
   "metadata": {},
   "source": [
    "#### Vector search\n"
   ]
  },
  {
   "cell_type": "code",
   "execution_count": 8,
   "metadata": {},
   "outputs": [],
   "source": [
    "class VectorSearchEngine():\n",
    "    def __init__(self, documents, embeddings):\n",
    "        self.documents = documents\n",
    "        self.embeddings = embeddings\n",
    "\n",
    "    def search(self, v_query, num_results=10):\n",
    "        scores = self.embeddings.dot(v_query)\n",
    "        idx = np.argsort(-scores)[:num_results]\n",
    "        return [self.documents[i] for i in idx]\n",
    "\n"
   ]
  },
  {
   "cell_type": "code",
   "execution_count": 9,
   "metadata": {},
   "outputs": [
    {
     "data": {
      "text/plain": [
       "[{'text': 'Yes, you can. You won’t be able to submit some of the homeworks, but you can still take part in the course.\\nIn order to get a certificate, you need to submit 2 out of 3 course projects and review 3 peers’ Projects by the deadline. It means that if you join the course at the end of November and manage to work on two projects, you will still be eligible for a certificate.',\n",
       "  'section': 'General course-related questions',\n",
       "  'question': 'The course has already started. Can I still join it?',\n",
       "  'course': 'machine-learning-zoomcamp',\n",
       "  'id': 'ee58a693'},\n",
       " {'text': 'Welcome to the course! Go to the course page (http://mlzoomcamp.com/), scroll down and start going through the course materials. Then read everything in the cohort folder for your cohort’s year.\\nClick on the links and start watching the videos. Also watch office hours from previous cohorts. Go to DTC youtube channel and click on Playlists and search for {course yyyy}. ML Zoomcamp was first launched in 2021.\\nOr you can just use this link: http://mlzoomcamp.com/#syllabus',\n",
       "  'section': 'General course-related questions',\n",
       "  'question': 'I just joined. What should I do next? How can I access course materials?',\n",
       "  'course': 'machine-learning-zoomcamp',\n",
       "  'id': '0a278fb2'},\n",
       " {'text': \"The process is automated now, so you should receive the email eventually. If you haven’t, check your promotions tab in Gmail as well as spam.\\nIf you unsubscribed from our newsletter, you won't get course related updates too.\\nBut don't worry, it’s not a problem. To make sure you don’t miss anything, join the #course-ml-zoomcamp channel in Slack and our telegram channel with announcements. This is enough to follow the course.\",\n",
       "  'section': 'General course-related questions',\n",
       "  'question': \"I filled the form, but haven't received a confirmation email. Is it normal?\",\n",
       "  'course': 'machine-learning-zoomcamp',\n",
       "  'id': '6ba259b1'},\n",
       " {'text': 'Technically, yes. Advisable? Not really. Reasons:\\nSome homework(s) asks for specific python library versions.\\nAnswers may not match in MCQ options if using different languages other than Python 3.10 (the recommended version for 2023 cohort)\\nAnd as for midterms/capstones, your peer-reviewers may not know these other languages. Do you want to be penalized for others not knowing these other languages?\\nYou can create a separate repo using course’s lessons but written in other languages for your own learnings, but not advisable for submissions.\\ntx[source]',\n",
       "  'section': 'Miscellaneous',\n",
       "  'question': 'Can I do the course in other languages, like R or Scala?',\n",
       "  'course': 'machine-learning-zoomcamp',\n",
       "  'id': '9f261648'},\n",
       " {'text': 'We won’t re-record the course videos. The focus of the course and the skills we want to teach remained the same, and the videos are still up-to-date.\\nIf you haven’t taken part in the previous iteration, you can start watching the videos. It’ll be useful for you and you will learn new things. However, we recommend using Python 3.10 now instead of Python 3.8.',\n",
       "  'section': 'General course-related questions',\n",
       "  'question': 'The course videos are from the previous iteration. Will you release new ones or we’ll use the videos from 2021?',\n",
       "  'course': 'machine-learning-zoomcamp',\n",
       "  'id': 'e7ba6b8a'}]"
      ]
     },
     "execution_count": 9,
     "metadata": {},
     "output_type": "execute_result"
    }
   ],
   "source": [
    "search_engine = VectorSearchEngine(\n",
    "    documents=filtered_documents, embeddings=X\n",
    ")\n",
    "search_engine.search(\n",
    "    user_question_embedding, num_results=5\n",
    ")"
   ]
  },
  {
   "cell_type": "markdown",
   "metadata": {},
   "source": [
    "### Q4. Hit-rate for our search engine\n",
    "0.93"
   ]
  },
  {
   "cell_type": "code",
   "execution_count": 10,
   "metadata": {},
   "outputs": [],
   "source": [
    "base_url = 'https://github.com/DataTalksClub/llm-zoomcamp/blob/main'\n",
    "relative_url = '03-vector-search/eval/ground-truth-data.csv'\n",
    "ground_truth_url = f'{base_url}/{relative_url}?raw=1'\n",
    "\n",
    "df_ground_truth = pd.read_csv(ground_truth_url)\n",
    "df_ground_truth = df_ground_truth[df_ground_truth.course == 'machine-learning-zoomcamp']\n",
    "ground_truth = df_ground_truth.to_dict(orient='records')"
   ]
  },
  {
   "cell_type": "code",
   "execution_count": 34,
   "metadata": {},
   "outputs": [],
   "source": [
    "def relevance_total(ground_truth, search_function):\n",
    "    for q in tqdm(ground_truth):\n",
    "        doc_id = q['document']\n",
    "        question_vector = embedding_model.encode(q['question'])\n",
    "        results = search_function(question_vector)\n",
    "        relevance = [d['id'] == doc_id for d in results]\n",
    "        yield relevance"
   ]
  },
  {
   "cell_type": "code",
   "execution_count": 12,
   "metadata": {},
   "outputs": [
    {
     "name": "stderr",
     "output_type": "stream",
     "text": [
      "100%|██████████| 1830/1830 [04:46<00:00,  6.39it/s]\n"
     ]
    }
   ],
   "source": [
    "relevance_total_ours = list(\n",
    "    relevance_total(\n",
    "        ground_truth,\n",
    "        lambda q : search_engine.search(\n",
    "            q, num_results=5\n",
    "        )\n",
    "    )\n",
    ")\n"
   ]
  },
  {
   "cell_type": "code",
   "execution_count": 13,
   "metadata": {},
   "outputs": [
    {
     "data": {
      "text/plain": [
       "0.9398907103825137"
      ]
     },
     "execution_count": 13,
     "metadata": {},
     "output_type": "execute_result"
    }
   ],
   "source": [
    "def hit_rate(relevance_total):\n",
    "    return sum(\n",
    "        True in line for line in relevance_total\n",
    "    ) / len(relevance_total)\n",
    "hit_rate(relevance_total_ours)\n"
   ]
  },
  {
   "cell_type": "markdown",
   "metadata": {},
   "source": [
    "### Q5. Indexing with Elasticsearch\n",
    "ee58a693"
   ]
  },
  {
   "cell_type": "code",
   "execution_count": 25,
   "metadata": {},
   "outputs": [
    {
     "data": {
      "text/plain": [
       "ObjectApiResponse({'name': '553b54310d14', 'cluster_name': 'docker-cluster', 'cluster_uuid': '1niU0FATTbyLwEw_mOn7Rw', 'version': {'number': '8.4.3', 'build_flavor': 'default', 'build_type': 'docker', 'build_hash': '42f05b9372a9a4a470db3b52817899b99a76ee73', 'build_date': '2022-10-04T07:17:24.662462378Z', 'build_snapshot': False, 'lucene_version': '9.3.0', 'minimum_wire_compatibility_version': '7.17.0', 'minimum_index_compatibility_version': '7.0.0'}, 'tagline': 'You Know, for Search'})"
      ]
     },
     "execution_count": 25,
     "metadata": {},
     "output_type": "execute_result"
    }
   ],
   "source": [
    "# Connect to Elasticsearch\n",
    "es_client = Elasticsearch('http://localhost:9200') \n",
    "es_client.info()\n"
   ]
  },
  {
   "cell_type": "code",
   "execution_count": 26,
   "metadata": {},
   "outputs": [
    {
     "name": "stdout",
     "output_type": "stream",
     "text": [
      "{'text': 'Machine Learning Zoomcamp FAQ\\nThe purpose of this document is to capture frequently asked technical questions.\\nWe did this for our data engineering course and it worked quite well. Check this document for inspiration on how to structure your questions and answers:\\nData Engineering Zoomcamp FAQ\\nIn the course GitHub repository there’s a link. Here it is: https://airtable.com/shryxwLd0COOEaqXo\\nwork', 'section': 'General course-related questions', 'question': 'How do I sign up?', 'course': 'machine-learning-zoomcamp', 'id': '0227b872', 'qa_vector': array([ 8.80590379e-02,  1.55935558e-02,  7.92557821e-02,  2.52758171e-02,\n",
      "        7.55765140e-02, -3.90597060e-02, -4.13814224e-02,  2.52918322e-02,\n",
      "        2.43241359e-02,  3.62586160e-03, -7.28285639e-03, -3.28751393e-02,\n",
      "        6.12956136e-02, -5.71100675e-02,  1.16774738e-02, -1.79441944e-02,\n",
      "        4.49206010e-02, -5.41606024e-02, -1.92263431e-03,  1.48330284e-02,\n",
      "        7.91357830e-03, -3.43127325e-02,  1.21480543e-02,  1.27185648e-02,\n",
      "       -1.60092488e-02,  7.12137623e-03,  1.58389583e-02, -3.27454589e-04,\n",
      "        3.01296194e-03, -4.58918139e-02, -1.34776707e-03,  2.01149564e-02,\n",
      "        2.33724583e-02, -4.28202143e-03, -3.09384093e-02,  1.94303109e-03,\n",
      "       -1.88219678e-02,  5.35160676e-03,  1.29352612e-02, -3.23958248e-02,\n",
      "        3.10556535e-02,  5.12983045e-03, -3.24419671e-04, -3.15541998e-02,\n",
      "        1.93377268e-02, -6.38601631e-02, -3.05380803e-02, -6.27884716e-02,\n",
      "       -1.74859762e-02,  3.52949649e-02, -2.98072025e-02,  7.45346025e-02,\n",
      "       -2.06183232e-02, -1.79156978e-02,  1.86262541e-02,  5.31014688e-02,\n",
      "        1.19287558e-02, -5.18543981e-02, -1.61923980e-03,  3.58705930e-02,\n",
      "       -6.52323151e-03,  4.53287438e-02, -1.06173949e-02,  1.02416035e-02,\n",
      "       -4.41201665e-02, -7.07985535e-02,  1.33665195e-02, -2.05062721e-02,\n",
      "        3.62042040e-02, -3.39451134e-02,  3.25139016e-02,  2.22205166e-02,\n",
      "       -3.24136764e-02, -3.93158756e-02,  2.75346538e-04,  2.43686605e-02,\n",
      "        1.57890003e-02,  2.50408985e-02,  1.70957495e-03, -2.63341499e-04,\n",
      "        4.40216847e-02, -5.46364784e-02,  2.34349389e-02,  2.99486984e-02,\n",
      "        1.41274836e-02, -2.91330405e-02, -6.47386257e-03, -3.54053713e-02,\n",
      "        1.71305034e-02,  2.90904529e-02,  1.46858841e-02,  8.54343362e-03,\n",
      "       -3.44416872e-02, -1.04835751e-02,  3.15485783e-02, -8.74644145e-02,\n",
      "       -2.11829524e-02, -5.05227149e-02, -7.52344495e-03,  4.42793332e-02,\n",
      "        3.77510153e-02, -1.24977983e-03,  6.45404169e-03, -1.53079284e-02,\n",
      "        1.66407451e-02,  5.46391420e-02,  1.78500768e-02, -7.61283282e-03,\n",
      "       -4.61103246e-02,  4.10019420e-02, -4.52273525e-02, -2.77623311e-02,\n",
      "        1.95288565e-02, -6.11867495e-02,  1.12644359e-02,  5.08542918e-03,\n",
      "        4.85851429e-02, -9.06992517e-03, -9.79335047e-03,  1.72461234e-02,\n",
      "       -7.30905235e-02,  5.36574014e-02, -3.24015431e-02,  1.24104563e-02,\n",
      "        1.06903464e-02,  3.30721512e-02,  4.14839387e-02,  3.38428840e-02,\n",
      "       -1.12889265e-03, -9.08525959e-02,  3.76023888e-03, -3.49575169e-02,\n",
      "        1.31473811e-02,  1.33827748e-02,  3.44474390e-02,  6.85054511e-02,\n",
      "       -1.42454617e-02, -5.42298965e-02, -8.57377890e-03,  2.42687576e-02,\n",
      "        5.15870079e-02, -2.89775413e-02, -1.47677464e-02, -1.08239418e-02,\n",
      "       -5.66393472e-02, -2.07527261e-03, -3.71209867e-02,  4.00513364e-03,\n",
      "       -5.97901121e-02, -1.55888842e-02,  2.72703487e-02,  1.94720738e-02,\n",
      "        1.87415518e-02, -3.74510065e-02,  2.62067243e-02,  7.50286952e-02,\n",
      "        2.16101352e-02, -1.37813147e-02,  5.01987971e-02, -6.47026068e-03,\n",
      "        5.67429997e-02, -4.03868258e-02, -1.20675163e-02,  8.55052471e-02,\n",
      "       -2.71651777e-03,  2.78823189e-02, -4.38817441e-02, -2.82744952e-02,\n",
      "        1.92068499e-02, -4.36237045e-02,  3.98129299e-02, -5.63067049e-02,\n",
      "        1.37331104e-02,  4.01091296e-03, -7.01442594e-03, -1.51919452e-02,\n",
      "        4.40157950e-02,  2.72325315e-02,  3.32806632e-02,  3.21899392e-02,\n",
      "       -8.18990320e-02, -5.92770837e-02,  2.22220346e-02, -2.69077178e-02,\n",
      "        4.15942110e-02, -1.37761198e-02,  4.10630144e-02,  4.05325331e-02,\n",
      "       -5.58696575e-02,  3.60302366e-02, -6.35680603e-03, -1.65047124e-02,\n",
      "       -1.07167836e-03, -7.76116317e-03,  5.12158945e-02, -3.07670645e-02,\n",
      "       -3.98046933e-02,  2.19666418e-02, -9.50629730e-03,  2.66281292e-02,\n",
      "        3.57357338e-02,  5.89501299e-02,  5.54056466e-03, -1.41580950e-03,\n",
      "       -2.31177155e-02,  2.41291570e-03, -2.71170903e-02, -3.01101413e-02,\n",
      "       -1.71695426e-02, -3.58681791e-02, -4.03450653e-02,  2.02254429e-02,\n",
      "        1.31838052e-02, -1.05260406e-02,  1.65335201e-02, -1.22696627e-02,\n",
      "       -3.93680446e-02,  9.12598986e-03, -1.34845609e-02,  2.73655448e-02,\n",
      "        3.88677642e-02, -3.65222571e-03, -2.11339220e-02,  2.25943397e-04,\n",
      "       -3.12622152e-02, -3.47088687e-02, -4.12915908e-02,  2.91098598e-02,\n",
      "        5.44958748e-02, -1.32070020e-01,  9.59287211e-03, -1.37135377e-02,\n",
      "        4.40675244e-02, -1.03825808e-01,  6.36643022e-02,  8.60994589e-03,\n",
      "        1.49037484e-02,  8.22829432e-04, -2.20599938e-02, -9.55934986e-04,\n",
      "       -4.45745245e-04, -1.26143340e-02, -4.75995913e-02, -2.14227736e-02,\n",
      "        4.69318256e-02,  2.59528905e-02, -1.09705077e-02, -1.69420540e-02,\n",
      "        7.51989102e-03, -5.15509620e-02,  4.28996198e-02,  1.28123478e-03,\n",
      "       -1.04662813e-02, -1.64836161e-02, -4.98015061e-02,  4.39344198e-02,\n",
      "        5.84347285e-02, -4.44175340e-02,  6.89990167e-03,  5.39160669e-02,\n",
      "        1.75765604e-02,  7.08568702e-03, -2.18797270e-02, -1.89142767e-03,\n",
      "        1.05513241e-02, -5.98141514e-02, -3.13123874e-02, -2.73168683e-02,\n",
      "        3.12896967e-02,  5.49116805e-02, -1.85728781e-02, -2.15360783e-02,\n",
      "        6.17362447e-02,  7.07531953e-03,  2.01494284e-02, -4.06040549e-02,\n",
      "        2.30052993e-02,  2.01894771e-02,  1.80803295e-02,  3.35160345e-02,\n",
      "       -2.27058902e-02, -5.81537150e-02,  3.04264575e-02, -1.40142059e-02,\n",
      "        2.95398142e-02,  1.17535032e-02, -7.83733502e-02,  2.78972518e-02,\n",
      "       -4.30106334e-02, -7.59009197e-02,  4.92750444e-02,  7.59606287e-02,\n",
      "        3.54489638e-03,  5.81535921e-02,  4.69778180e-02, -4.00008168e-03,\n",
      "       -4.00545681e-03,  2.51615085e-02, -9.95811969e-02,  3.34290974e-02,\n",
      "       -3.01809888e-03,  3.01541612e-02,  4.54931445e-02, -7.25229830e-02,\n",
      "        4.01625596e-02, -1.16757071e-02, -6.19702926e-03, -9.54162329e-02,\n",
      "       -3.01121715e-02, -2.74963863e-02, -4.44820188e-02,  1.52523187e-03,\n",
      "       -6.31317422e-02, -8.02881345e-02,  4.55777794e-02,  3.08043696e-02,\n",
      "       -4.65145474e-03, -2.48239469e-03, -1.87035725e-02,  3.56814228e-02,\n",
      "       -8.61485600e-02, -8.76673963e-03,  5.94232753e-02,  7.03033581e-02,\n",
      "       -3.35510704e-03,  3.14284973e-02,  3.35557722e-02,  4.47359495e-02,\n",
      "       -1.82780102e-02,  4.33736527e-03, -1.56072062e-02,  4.82697934e-02,\n",
      "        5.78109026e-02, -1.55588111e-03, -3.07916552e-02,  3.06997802e-02,\n",
      "        3.05095594e-02,  4.37344983e-02, -2.46431679e-02, -1.98744666e-02,\n",
      "        7.25642033e-03,  3.61755639e-02, -1.86710376e-02, -1.69779565e-02,\n",
      "        5.28293326e-02,  1.72062614e-03,  3.34720872e-02, -6.57697096e-02,\n",
      "       -3.20816822e-02,  4.12179530e-03,  8.29500332e-03, -4.56412509e-02,\n",
      "        3.20225507e-02, -2.28897650e-02,  5.52556701e-02,  4.02578227e-02,\n",
      "       -2.90957019e-02, -3.44281341e-03, -1.38216941e-02, -6.29018643e-04,\n",
      "        2.53444258e-02,  1.89793929e-02, -4.45094258e-02, -4.78352569e-02,\n",
      "        3.22866403e-02,  6.68825507e-02, -8.67475756e-03, -7.80024659e-03,\n",
      "        2.92887655e-03, -2.42292434e-02, -2.09651086e-02, -1.09208778e-01,\n",
      "       -2.94364449e-02,  1.47712175e-02, -4.47422229e-02, -2.71010883e-02,\n",
      "       -3.91135830e-03,  1.68099459e-02,  3.11841555e-02,  1.24178650e-02,\n",
      "        6.59734895e-03, -4.44687717e-03, -3.45145501e-02, -1.24448154e-03,\n",
      "        5.61033301e-02, -4.12151627e-02,  4.74843420e-02,  3.92920971e-02,\n",
      "       -5.78538962e-02, -4.47588265e-02,  1.95152685e-02,  3.01112998e-02,\n",
      "       -8.72349273e-03, -2.85054743e-02, -7.27255363e-03,  3.58912647e-02,\n",
      "       -7.09609985e-02, -6.56753108e-02,  5.03813848e-03,  2.90020220e-02,\n",
      "        4.08616709e-03,  7.97067396e-03, -2.29644347e-02, -4.41172421e-02,\n",
      "        4.12212238e-02,  2.17066053e-02,  1.23129999e-02, -1.74234100e-02,\n",
      "       -1.55699169e-02, -1.17437793e-02,  5.18719405e-02,  3.44449165e-03,\n",
      "       -6.66774809e-02,  3.35144363e-02, -4.39756643e-03, -3.66432443e-02,\n",
      "        7.48344809e-02,  1.37544144e-02, -5.05722538e-02, -1.69507768e-02,\n",
      "       -9.13899019e-02,  3.94620001e-02, -4.91533913e-02,  2.32399404e-02,\n",
      "       -6.95740059e-03, -2.49377526e-02,  1.79814100e-02, -3.91750634e-02,\n",
      "        2.72794142e-02,  5.39086945e-02,  6.70256838e-02,  2.87340228e-02,\n",
      "        7.15202512e-03,  4.48691286e-02, -2.89590061e-02,  2.67861653e-02,\n",
      "        6.71393052e-02, -3.71877942e-03, -2.13471167e-02,  4.02928814e-02,\n",
      "        5.37431389e-02,  2.69309152e-03,  3.33235599e-02,  4.19459902e-02,\n",
      "        3.77101377e-02,  1.00906696e-02,  1.64033808e-02,  1.37284203e-02,\n",
      "        4.92302217e-02,  5.35364076e-02,  5.79526126e-02, -3.29139121e-02,\n",
      "        1.22460714e-02,  2.88261399e-02, -4.93662572e-03,  2.96172667e-02,\n",
      "        6.32614177e-03, -4.79912274e-02, -3.14917341e-02, -3.97242419e-02,\n",
      "       -3.50666456e-02,  2.99803494e-03, -9.44070332e-03,  2.62554712e-03,\n",
      "        9.90500301e-03, -5.18645085e-02,  2.04040799e-02,  3.75541858e-02,\n",
      "        8.65953509e-03,  3.73828709e-02,  2.54471973e-02, -1.32634956e-02,\n",
      "        8.06262866e-02,  2.10315734e-02, -1.99040696e-02, -1.00638587e-02,\n",
      "       -3.93789075e-02, -3.32227610e-02,  1.41281392e-02,  4.00279909e-02,\n",
      "       -7.60371517e-03, -4.89356704e-02, -2.67797373e-02, -5.59408329e-02,\n",
      "        3.21788713e-02,  8.22694320e-03,  3.76134589e-02,  8.17618426e-03,\n",
      "       -1.37847057e-02, -2.16961280e-02,  1.27261542e-02, -6.38867123e-03,\n",
      "       -8.46948847e-03, -6.06379518e-03, -1.16485702e-02,  1.15114124e-02,\n",
      "        2.72039697e-02, -1.29375225e-02, -1.30015444e-02,  3.71455289e-02,\n",
      "        2.18766145e-02,  2.41833664e-02,  3.43342486e-04, -1.44565385e-02,\n",
      "        3.24437730e-02,  5.78669608e-02,  1.25016132e-02,  1.83984339e-02,\n",
      "       -7.32085407e-02, -1.24307629e-02, -1.85829997e-02, -2.32730620e-03,\n",
      "        1.47507954e-02,  1.19954878e-02, -2.08629994e-03, -2.90985927e-02,\n",
      "        3.42284940e-04, -2.48182956e-02, -2.78203450e-02, -3.26306815e-03,\n",
      "       -1.13068456e-02, -3.82190533e-02, -8.83376673e-02, -2.67931856e-02,\n",
      "       -4.97603081e-02,  1.06247943e-02, -2.03505922e-02,  4.61896136e-02,\n",
      "        3.04142460e-02,  7.39259049e-02, -1.93728767e-02, -6.24436699e-02,\n",
      "       -4.30182479e-02, -2.44443142e-03,  2.31976341e-02,  2.40072459e-02,\n",
      "       -6.32212311e-02, -1.28707681e-02, -1.06626870e-02, -1.21628242e-02,\n",
      "        4.63577323e-02,  8.66871327e-03, -3.91136073e-02,  5.18055353e-03,\n",
      "       -3.37269530e-02,  4.08052765e-02,  4.56021875e-02, -5.35725662e-03,\n",
      "        1.47814937e-02,  6.52763899e-03, -1.91998407e-02,  1.32419579e-02,\n",
      "        1.28353154e-02,  3.14028002e-02,  2.19753068e-02, -1.87768396e-02,\n",
      "        9.01833083e-03,  1.66758709e-02,  1.36963569e-03,  4.85401526e-02,\n",
      "       -5.04996516e-02,  2.72835623e-02, -2.80783256e-03,  8.74806382e-03,\n",
      "        2.16660444e-02,  1.66531373e-02, -4.64341007e-02, -1.94113981e-02,\n",
      "        1.49265314e-02, -2.04601791e-02, -9.30299908e-02, -3.57578951e-03,\n",
      "        4.36928868e-02,  4.18227836e-02, -1.04740066e-02,  9.13388375e-03,\n",
      "       -1.26577104e-02,  9.28745838e-04,  3.03164925e-02,  9.25377104e-03,\n",
      "       -1.58126559e-03,  6.60841540e-02,  1.97660103e-02, -3.60443667e-02,\n",
      "       -3.43122310e-03, -3.59755643e-02,  1.49512114e-02, -2.88110189e-02,\n",
      "        1.71100330e-02,  4.95878048e-02,  3.53194214e-02,  4.19225693e-02,\n",
      "        4.83730100e-02,  1.96336247e-02, -1.70031225e-03,  9.81865749e-02,\n",
      "        1.77093986e-02, -3.84562626e-03, -4.52681445e-02, -4.13472485e-03,\n",
      "       -5.71960174e-02,  1.04758460e-02,  1.73035357e-02,  4.14520837e-02,\n",
      "        1.68829840e-02, -1.23575488e-02, -1.35784671e-02,  6.87891096e-02,\n",
      "        1.86708532e-02,  5.50276078e-02,  2.71758195e-02, -3.02901063e-02,\n",
      "        4.20797579e-02,  3.58545333e-02, -7.05272853e-02,  8.97806510e-03,\n",
      "        3.04065086e-02, -4.93476074e-03, -3.86132784e-02, -6.36185035e-02,\n",
      "       -1.28050474e-02,  1.45554803e-02, -3.86997536e-02, -1.90095343e-02,\n",
      "       -4.16538306e-02, -5.53315096e-02,  3.14248330e-03, -4.05708775e-02,\n",
      "       -4.65664919e-03,  1.20834066e-02,  3.92553732e-02, -1.48489736e-02,\n",
      "       -4.43880893e-02, -1.95002295e-02, -2.00037826e-02, -3.84879038e-02,\n",
      "        6.50726780e-02,  1.58442964e-03,  2.42223945e-02,  2.11767722e-02,\n",
      "       -2.80457344e-02,  5.06496467e-02, -3.17925364e-02, -3.93060260e-02,\n",
      "       -7.48628750e-02, -1.47938710e-02,  2.93557509e-03, -1.90881256e-03,\n",
      "       -4.62152362e-02,  2.79245991e-02,  5.36212325e-02,  5.08887023e-02,\n",
      "       -3.63443457e-02,  4.83042374e-02,  2.08878051e-02,  4.74292263e-02,\n",
      "        4.92655998e-03, -2.71409862e-02,  5.47685884e-02, -4.14410159e-02,\n",
      "       -5.68514178e-03, -3.04765403e-02,  3.94586707e-03, -3.12195048e-02,\n",
      "       -4.37382907e-02,  2.12004147e-02, -1.80493873e-02,  2.81700063e-02,\n",
      "        3.96552011e-02, -5.35949916e-02,  5.33269569e-02,  7.67336413e-03,\n",
      "       -2.33186707e-02, -1.42170181e-02,  5.31647503e-02, -3.49745825e-02,\n",
      "        6.54080957e-02,  4.37313318e-02, -7.25451633e-02,  4.89383526e-02,\n",
      "       -9.12459753e-03,  4.59331833e-02, -3.46429758e-02, -2.72386037e-02,\n",
      "       -3.04769576e-02, -4.05410714e-02,  5.07943034e-02,  2.39161216e-02,\n",
      "       -4.21275720e-02, -7.53407925e-02, -6.36726836e-05,  2.31820121e-02,\n",
      "        2.98201367e-02, -4.67950664e-02,  1.05024921e-02, -8.33882764e-03,\n",
      "       -2.53908578e-02, -2.78922776e-03, -5.80482334e-02, -3.58987935e-02,\n",
      "        1.04234116e-02, -3.31453905e-02, -2.29870938e-02,  1.90615300e-02,\n",
      "       -4.05621119e-02,  3.41113447e-03,  1.07715791e-02,  5.10822311e-02,\n",
      "       -3.88363898e-02, -3.84784900e-02,  4.38734591e-02, -3.46118845e-02,\n",
      "        1.73041243e-02,  1.62715763e-02,  2.14490164e-02, -2.26181857e-02,\n",
      "       -1.69366132e-02,  2.30086278e-02,  2.55133417e-02,  8.10869709e-02,\n",
      "        5.52573353e-02,  1.81327164e-02,  2.32690983e-02,  7.37191513e-02,\n",
      "       -2.53652055e-02,  1.41270421e-02,  7.17900507e-03,  4.39648665e-02,\n",
      "       -1.27545521e-02,  2.30465326e-02,  3.01264357e-02, -7.24177714e-03,\n",
      "        3.82401310e-02,  5.56619465e-02, -6.76997304e-02, -2.43170280e-02,\n",
      "       -1.17052905e-02, -1.58955567e-02,  4.49812934e-02, -5.12632430e-02,\n",
      "        2.38026027e-02,  3.47883962e-02, -3.94906439e-02, -3.04278340e-02,\n",
      "        3.11545786e-02, -2.13785768e-02,  3.09259612e-02,  1.42324986e-02,\n",
      "       -6.56462610e-02,  1.46022793e-02,  3.42592341e-03,  4.44189757e-02,\n",
      "        2.20310013e-03, -1.86532810e-02,  1.99844800e-02, -5.16025573e-02,\n",
      "       -4.81741577e-02,  1.30593283e-02,  1.76972691e-02, -1.19784512e-02,\n",
      "       -9.83290933e-03, -7.01445341e-02, -6.58488646e-02,  6.75936341e-02,\n",
      "       -2.80170050e-02,  7.45117059e-03,  2.41914089e-03,  1.14712752e-02],\n",
      "      dtype=float32)}\n"
     ]
    },
    {
     "name": "stderr",
     "output_type": "stream",
     "text": [
      "375it [00:00, 731564.65it/s]\n"
     ]
    }
   ],
   "source": [
    "index_settings = {\n",
    "    \"settings\": {\n",
    "        \"number_of_shards\": 1,\n",
    "        \"number_of_replicas\": 0\n",
    "    },\n",
    "    \"mappings\": {\n",
    "        \"properties\": {\n",
    "            \"text\": {\"type\": \"text\"},\n",
    "            \"section\": {\"type\": \"text\"},\n",
    "            \"question\": {\"type\": \"text\"},\n",
    "            \"course\": {\"type\": \"keyword\"} ,\n",
    "            \"qa_vector\": {\"type\": \"dense_vector\",\n",
    "                            \"dims\": 768,\n",
    "                            \"index\": True,\n",
    "                            \"similarity\": \"cosine\"},\n",
    "        }\n",
    "    }\n",
    "}\n",
    "\n",
    "index_name = \"course-questions\"\n",
    "\n",
    "es_client.indices.delete(index=index_name, ignore_unavailable=True)\n",
    "es_client.indices.create(index=index_name, body=index_settings)\n",
    "# Index the filtered_documents\n",
    "print(filtered_documents[0])\n",
    "\n",
    "for doc, vec in tqdm(zip(filtered_documents, embeddings)):\n",
    "    doc['qa_vector'] = vec"
   ]
  },
  {
   "cell_type": "code",
   "execution_count": 27,
   "metadata": {},
   "outputs": [
    {
     "name": "stderr",
     "output_type": "stream",
     "text": [
      "100%|██████████| 375/375 [00:06<00:00, 55.73it/s]\n"
     ]
    }
   ],
   "source": [
    "for doc in tqdm(filtered_documents):\n",
    "    try:\n",
    "        es_client.index(index=index_name, document=doc)\n",
    "    except Exception as e:\n",
    "        print(e)"
   ]
  },
  {
   "cell_type": "code",
   "execution_count": 28,
   "metadata": {},
   "outputs": [],
   "source": [
    "def elastic_search(field, vector, course):\n",
    "    knn_query = {\n",
    "        \"field\": field,\n",
    "        \"query_vector\": vector,\n",
    "        \"k\": 5,\n",
    "        \"num_candidates\": 10000,\n",
    "        \"filter\": { \"term\": { \"course\": course }}\n",
    "    }\n",
    "\n",
    "    search_query = {\n",
    "        \"knn\": knn_query,\n",
    "        \"_source\": [\"text\", \"section\", \"question\", \"course\", \"id\"]\n",
    "    }\n",
    "\n",
    "    es_results = es_client.search(\n",
    "        index=index_name, body=search_query\n",
    "    )\n",
    "    \n",
    "    result_docs = []\n",
    "    \n",
    "    for hit in es_results['hits']['hits']:\n",
    "        result_docs.append(hit['_source'])\n",
    "\n",
    "    return result_docs"
   ]
  },
  {
   "cell_type": "code",
   "execution_count": 29,
   "metadata": {},
   "outputs": [
    {
     "data": {
      "text/plain": [
       "[{'question': 'The course has already started. Can I still join it?',\n",
       "  'course': 'machine-learning-zoomcamp',\n",
       "  'section': 'General course-related questions',\n",
       "  'text': 'Yes, you can. You won’t be able to submit some of the homeworks, but you can still take part in the course.\\nIn order to get a certificate, you need to submit 2 out of 3 course projects and review 3 peers’ Projects by the deadline. It means that if you join the course at the end of November and manage to work on two projects, you will still be eligible for a certificate.',\n",
       "  'id': 'ee58a693'},\n",
       " {'question': 'I just joined. What should I do next? How can I access course materials?',\n",
       "  'course': 'machine-learning-zoomcamp',\n",
       "  'section': 'General course-related questions',\n",
       "  'text': 'Welcome to the course! Go to the course page (http://mlzoomcamp.com/), scroll down and start going through the course materials. Then read everything in the cohort folder for your cohort’s year.\\nClick on the links and start watching the videos. Also watch office hours from previous cohorts. Go to DTC youtube channel and click on Playlists and search for {course yyyy}. ML Zoomcamp was first launched in 2021.\\nOr you can just use this link: http://mlzoomcamp.com/#syllabus',\n",
       "  'id': '0a278fb2'},\n",
       " {'question': \"I filled the form, but haven't received a confirmation email. Is it normal?\",\n",
       "  'course': 'machine-learning-zoomcamp',\n",
       "  'section': 'General course-related questions',\n",
       "  'text': \"The process is automated now, so you should receive the email eventually. If you haven’t, check your promotions tab in Gmail as well as spam.\\nIf you unsubscribed from our newsletter, you won't get course related updates too.\\nBut don't worry, it’s not a problem. To make sure you don’t miss anything, join the #course-ml-zoomcamp channel in Slack and our telegram channel with announcements. This is enough to follow the course.\",\n",
       "  'id': '6ba259b1'},\n",
       " {'question': 'The course videos are from the previous iteration. Will you release new ones or we’ll use the videos from 2021?',\n",
       "  'course': 'machine-learning-zoomcamp',\n",
       "  'section': 'General course-related questions',\n",
       "  'text': 'We won’t re-record the course videos. The focus of the course and the skills we want to teach remained the same, and the videos are still up-to-date.\\nIf you haven’t taken part in the previous iteration, you can start watching the videos. It’ll be useful for you and you will learn new things. However, we recommend using Python 3.10 now instead of Python 3.8.',\n",
       "  'id': 'e7ba6b8a'},\n",
       " {'question': 'How long is the course?',\n",
       "  'course': 'machine-learning-zoomcamp',\n",
       "  'section': 'General course-related questions',\n",
       "  'text': 'Approximately 4 months, but may take more if you want to do some extra activities (an extra project, an article, etc)',\n",
       "  'id': '67e2fd13'}]"
      ]
     },
     "execution_count": 29,
     "metadata": {},
     "output_type": "execute_result"
    }
   ],
   "source": [
    "elastic_search('qa_vector', user_question_embedding, 'machine-learning-zoomcamp')\n"
   ]
  },
  {
   "cell_type": "markdown",
   "metadata": {},
   "source": [
    "### Q6. Hit-rate for Elasticsearch\n",
    "\n",
    "0.93\n"
   ]
  },
  {
   "cell_type": "code",
   "execution_count": 30,
   "metadata": {},
   "outputs": [
    {
     "name": "stderr",
     "output_type": "stream",
     "text": [
      "100%|██████████| 1830/1830 [03:50<00:00,  7.93it/s]\n"
     ]
    }
   ],
   "source": [
    "def es_search_function(vector):\n",
    "    return elastic_search(\n",
    "        'qa_vector',\n",
    "        user_question_embedding[0],\n",
    "        'machine-learning-zoomcamp'\n",
    "    )\n",
    "\n",
    "relevance_total_es = list(\n",
    "    relevance_total(ground_truth,es_search_function)\n",
    ")\n"
   ]
  },
  {
   "cell_type": "code",
   "execution_count": 33,
   "metadata": {},
   "outputs": [
    {
     "data": {
      "text/plain": [
       "0.01366120218579235"
      ]
     },
     "execution_count": 33,
     "metadata": {},
     "output_type": "execute_result"
    }
   ],
   "source": [
    "hit_rate(relevance_total_es)\n"
   ]
  },
  {
   "cell_type": "code",
   "execution_count": null,
   "metadata": {},
   "outputs": [],
   "source": []
  }
 ],
 "metadata": {
  "kernelspec": {
   "display_name": "venv",
   "language": "python",
   "name": "python3"
  },
  "language_info": {
   "codemirror_mode": {
    "name": "ipython",
    "version": 3
   },
   "file_extension": ".py",
   "mimetype": "text/x-python",
   "name": "python",
   "nbconvert_exporter": "python",
   "pygments_lexer": "ipython3",
   "version": "3.10.13"
  }
 },
 "nbformat": 4,
 "nbformat_minor": 2
}
