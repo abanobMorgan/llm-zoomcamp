{
 "cells": [
  {
   "cell_type": "markdown",
   "metadata": {},
   "source": [
    "#### Q1. Rows in LanceDB\n",
    "\n",
    "17"
   ]
  },
  {
   "cell_type": "markdown",
   "metadata": {},
   "source": [
    "#### Q2. Running the Pipeline: Last edited time\n",
    "\n",
    "Timestamp('2024-07-05 22:56:00+0000', tz='UTC') (OR \"2024-07-05T22:56:00.000Z\")\n"
   ]
  },
  {
   "cell_type": "markdown",
   "metadata": {},
   "source": [
    "#### Q3. Ask the Assistant \n",
    "Assistant: The employees are entitled to 30 days of paid time off (PTO) per year, which includes all major US and federal holidays. They can take their PTO at any time after joining the company. The accrual process begins on the first day of employment and they receive 2.5 days of PTO per month. After one year of service, they will earn an additional day of PTO, with a cap of 25 days overall. If they need to use their PTO, they can submit a request through our HRIS system or inform their manager at least three days in advance if they are non-exempt employees. Exempt employees will receive an additional day of PTO that must be taken within 12 months after the holiday. The company also encourages its employees to use their time off throughout the year and compensates accrued PTO with final paychecks based on local law when applicable or by granting additional days for exempt employees who were not terminated for cause.\n"
   ]
  },
  {
   "cell_type": "markdown",
   "metadata": {},
   "source": []
  },
  {
   "cell_type": "code",
   "execution_count": null,
   "metadata": {},
   "outputs": [],
   "source": []
  }
 ],
 "metadata": {
  "language_info": {
   "name": "python"
  }
 },
 "nbformat": 4,
 "nbformat_minor": 2
}
